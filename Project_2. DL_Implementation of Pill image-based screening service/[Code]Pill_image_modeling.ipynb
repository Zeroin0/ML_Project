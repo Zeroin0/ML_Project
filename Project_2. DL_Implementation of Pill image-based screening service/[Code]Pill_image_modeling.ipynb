{
  "cells": [
    {
      "cell_type": "markdown",
      "source": [
        "#1.Data Load"
      ],
      "metadata": {
        "id": "EqlebjhuPn6L"
      }
    },
    {
      "cell_type": "code",
      "execution_count": null,
      "metadata": {
        "id": "lZkIO__Fc2tX"
      },
      "outputs": [],
      "source": [
        "import time\n",
        "import os\n",
        "from PIL import Image\n",
        "import sys\n",
        "import numpy as np\n",
        "from matplotlib.pyplot import imshow, subplots, title\n",
        "from torchvision import transforms\n",
        "import albumentations\n",
        "import random"
      ]
    },
    {
      "cell_type": "code",
      "execution_count": null,
      "metadata": {
        "colab": {
          "base_uri": "https://localhost:8080/",
          "height": 89
        },
        "id": "sbOu76u0-GO-",
        "outputId": "7fb72149-0a56-47a6-a130-e29997e26844"
      },
      "outputs": [
        {
          "output_type": "stream",
          "name": "stdout",
          "text": [
            "Looking in indexes: https://pypi.org/simple, https://us-python.pkg.dev/colab-wheels/public/simple/\n",
            "Requirement already satisfied: opencv-python in /usr/local/lib/python3.8/dist-packages (4.6.0.66)\n",
            "Requirement already satisfied: numpy>=1.14.5 in /usr/local/lib/python3.8/dist-packages (from opencv-python) (1.21.6)\n"
          ]
        },
        {
          "output_type": "execute_result",
          "data": {
            "text/plain": [
              "'4.6.0'"
            ],
            "application/vnd.google.colaboratory.intrinsic+json": {
              "type": "string"
            }
          },
          "metadata": {},
          "execution_count": 2
        }
      ],
      "source": [
        "!pip install opencv-python\n",
        "import cv2\n",
        "cv2.__version__"
      ]
    },
    {
      "cell_type": "code",
      "execution_count": null,
      "metadata": {
        "colab": {
          "base_uri": "https://localhost:8080/"
        },
        "id": "jnfxMkvfvOyX",
        "outputId": "bec90a61-bb6b-424a-f8fc-371f359a0d19"
      },
      "outputs": [
        {
          "output_type": "stream",
          "name": "stdout",
          "text": [
            "Mounted at /content/drive\n"
          ]
        }
      ],
      "source": [
        "# 구글 드라이브 이용\n",
        "from google.colab import drive\n",
        "drive.mount('/content/drive')"
      ]
    },
    {
      "cell_type": "code",
      "execution_count": null,
      "metadata": {
        "colab": {
          "base_uri": "https://localhost:8080/"
        },
        "id": "qzDdIDkHvWz3",
        "outputId": "6808cd93-b77b-4770-ed63-0bdff2dd9379"
      },
      "outputs": [
        {
          "output_type": "stream",
          "name": "stdout",
          "text": [
            "/content/sample_data\n"
          ]
        }
      ],
      "source": [
        "%cd /content/sample_data"
      ]
    },
    {
      "cell_type": "code",
      "execution_count": null,
      "metadata": {
        "id": "VqjSjI3RvkYC"
      },
      "outputs": [],
      "source": [
        "!unzip -qq \"/content/drive/MyDrive/Colab Notebooks/datasets/pill_data_13.zip\""
      ]
    },
    {
      "cell_type": "code",
      "execution_count": null,
      "metadata": {
        "id": "xKJd8zFnEPzB"
      },
      "outputs": [],
      "source": [
        "!unzip -qq \"/content/drive/MyDrive/Colab Notebooks/datasets/pill_data_46.zip\""
      ]
    },
    {
      "cell_type": "code",
      "execution_count": null,
      "metadata": {
        "id": "wuD5Hrz0LV5I"
      },
      "outputs": [],
      "source": [
        "import os, shutil, pathlib"
      ]
    },
    {
      "cell_type": "code",
      "execution_count": null,
      "metadata": {
        "id": "njPUvYiq_Tox"
      },
      "outputs": [],
      "source": [
        "def createFolder(directory):\n",
        "    try:\n",
        "        if not os.path.exists(directory):\n",
        "            os.makedirs(directory)\n",
        "    except OSError:\n",
        "        print ('Error: Creating directory. ' +  directory)\n",
        "\n",
        "createFolder('/content/sample_data/split_data')\n",
        "\n",
        "def createFolder(directory):\n",
        "    try:\n",
        "        if not os.path.exists(directory):\n",
        "            os.makedirs(directory)\n",
        "    except OSError:\n",
        "        print ('Error: Creating directory. ' +  directory)\n",
        "\n",
        "createFolder('/content/sample_data/split_data/train')\n",
        "\n",
        "for i in range(1,7):\n",
        "  # 결과 저장 폴더 생성\n",
        "  out_dir =f\"/content/sample_data/split_data/train/{i}\"\n",
        "  if out_dir not in os.listdir():\n",
        "      os.mkdir(out_dir)"
      ]
    },
    {
      "cell_type": "code",
      "execution_count": null,
      "metadata": {
        "id": "kxHkjnvF4M5n"
      },
      "outputs": [],
      "source": [
        "def make_subset(start_index, end_index):\n",
        "  for category in range(1,7):\n",
        "    original_dir = pathlib.Path(f\"/content/sample_data/{category}\")\n",
        "    dir = pathlib.Path(f\"/content/sample_data/split_data/train/{category}\")\n",
        "    fnames = [f'{category}_{i}.jpg' for i in range(start_index, end_index)]\n",
        "    for fname in fnames:\n",
        "      shutil.copyfile(src = original_dir /fname,\n",
        "                      dst = dir / fname)"
      ]
    },
    {
      "cell_type": "code",
      "execution_count": null,
      "metadata": {
        "id": "RSj4o7fb2Ruh"
      },
      "outputs": [],
      "source": [
        "make_subset(start_index = 201, end_index = 801)"
      ]
    },
    {
      "cell_type": "code",
      "execution_count": null,
      "metadata": {
        "id": "lbnzAznu5z1a"
      },
      "outputs": [],
      "source": [
        "def createFolder(directory):\n",
        "    try:\n",
        "        if not os.path.exists(directory):\n",
        "            os.makedirs(directory)\n",
        "    except OSError:\n",
        "        print ('Error: Creating directory. ' +  directory)\n",
        "\n",
        "createFolder('/content/sample_data/split_data')\n",
        "\n",
        "def createFolder(directory):\n",
        "    try:\n",
        "        if not os.path.exists(directory):\n",
        "            os.makedirs(directory)\n",
        "    except OSError:\n",
        "        print ('Error: Creating directory. ' +  directory)\n",
        "\n",
        "createFolder('/content/sample_data/split_data/valid')\n",
        "\n",
        "for i in range(1,7):\n",
        "  # 결과 저장 폴더 생성\n",
        "  out_dir =f\"/content/sample_data/split_data/valid/{i}\"\n",
        "  if out_dir not in os.listdir():\n",
        "      os.mkdir(out_dir)"
      ]
    },
    {
      "cell_type": "code",
      "execution_count": null,
      "metadata": {
        "id": "sViDtpDW6ZmH"
      },
      "outputs": [],
      "source": [
        "def make_subset(start_index, end_index):\n",
        "  for category in range(1,7):\n",
        "    original_dir = pathlib.Path(f\"/content/sample_data/{category}\")\n",
        "    dir = pathlib.Path(f\"/content/sample_data/split_data/valid/{category}\")\n",
        "    fnames = [f'{category}_{i}.jpg' for i in range(start_index, end_index)]\n",
        "    for fname in fnames:\n",
        "      shutil.copyfile(src = original_dir /fname,\n",
        "                      dst = dir / fname)"
      ]
    },
    {
      "cell_type": "code",
      "execution_count": null,
      "metadata": {
        "id": "DsJvFp-1598M"
      },
      "outputs": [],
      "source": [
        "make_subset(start_index = 1, end_index = 101)\n",
        "make_subset(start_index = 801, end_index = 901)"
      ]
    },
    {
      "cell_type": "code",
      "execution_count": null,
      "metadata": {
        "id": "rpZS3x7E6EYk"
      },
      "outputs": [],
      "source": [
        "def createFolder(directory):\n",
        "    try:\n",
        "        if not os.path.exists(directory):\n",
        "            os.makedirs(directory)\n",
        "    except OSError:\n",
        "        print ('Error: Creating directory. ' +  directory)\n",
        "\n",
        "createFolder('/content/sample_data/split_data')\n",
        "\n",
        "def createFolder(directory):\n",
        "    try:\n",
        "        if not os.path.exists(directory):\n",
        "            os.makedirs(directory)\n",
        "    except OSError:\n",
        "        print ('Error: Creating directory. ' +  directory)\n",
        "\n",
        "createFolder('/content/sample_data/split_data/test')\n",
        "\n",
        "for i in range(1,7):\n",
        "  # 결과 저장 폴더 생성\n",
        "  out_dir =f\"/content/sample_data/split_data/test/{i}\"\n",
        "  if out_dir not in os.listdir():\n",
        "      os.mkdir(out_dir)"
      ]
    },
    {
      "cell_type": "code",
      "execution_count": null,
      "metadata": {
        "id": "ka2vuhD96n9k"
      },
      "outputs": [],
      "source": [
        "def make_subset(start_index, end_index):\n",
        "  for category in range(1,7):\n",
        "    original_dir = pathlib.Path(f\"/content/sample_data/{category}\")\n",
        "    dir = pathlib.Path(f\"/content/sample_data/split_data/test/{category}\")\n",
        "    fnames = [f'{category}_{i}.jpg' for i in range(start_index, end_index)]\n",
        "    for fname in fnames:\n",
        "      shutil.copyfile(src = original_dir /fname,\n",
        "                      dst = dir / fname)"
      ]
    },
    {
      "cell_type": "code",
      "execution_count": null,
      "metadata": {
        "id": "R-mXag_T6rk9"
      },
      "outputs": [],
      "source": [
        "make_subset(start_index = 101, end_index = 201)\n",
        "make_subset(start_index = 901, end_index = 1001)"
      ]
    },
    {
      "cell_type": "markdown",
      "metadata": {
        "id": "NxO6hmmm__1i"
      },
      "source": [
        "#2.Data Augmentation "
      ]
    },
    {
      "cell_type": "code",
      "execution_count": null,
      "metadata": {
        "id": "tFunRrlqCDOx"
      },
      "outputs": [],
      "source": [
        "for i in range(1, 7):\n",
        "  for j in range(201, 801):\n",
        "    img = cv2.imread(f'/content/sample_data/split_data/train/{i}/{i}_{j}.jpg', cv2.IMREAD_COLOR)\n",
        "\n",
        "    img1 = cv2.rotate(img, cv2.ROTATE_180) # 180도 회전\n",
        "                                                             \n",
        "    os.chdir(f'/content/sample_data/split_data/train/{i}')\n",
        "    cv2.imwrite(f'180_{i}_{j}.jpg', img1)"
      ]
    },
    {
      "cell_type": "code",
      "execution_count": null,
      "metadata": {
        "id": "Fl5H6ThBYBIY"
      },
      "outputs": [],
      "source": [
        "for i in range(1,7):\n",
        "  for j in range(201,801):    \n",
        "    image = cv2.imread(f'/content/sample_data/split_data/train/{i}/{i}_{j}.jpg', cv2.IMREAD_COLOR)\n",
        "    image_rgb = cv2.cvtColor(image, cv2.COLOR_BGR2RGB)\n",
        "\n",
        "    # 커널 생성 (대상이 있는 픽셀을 강조)\n",
        "    kernel = np.array([[0,-1,0],\n",
        "                       [-1,5,-1],\n",
        "                       [0,-1,0]])\n",
        "    # 커널 적용\n",
        "    image_sharp = cv2.filter2D(image_rgb, -1, kernel)\n",
        "\n",
        "    os.chdir(f\"/content/sample_data/split_data/train/{i}\")\n",
        "    cv2.imwrite(f's_{i}_{j}.jpg', image_sharp)"
      ]
    },
    {
      "cell_type": "code",
      "execution_count": null,
      "metadata": {
        "id": "b70P5mTLIp4k"
      },
      "outputs": [],
      "source": [
        "for i in range(1, 7):\n",
        "  for j in range(201,801):\n",
        "    img = cv2.imread(f'/content/sample_data/split_data/train/{i}/s_{i}_{j}.jpg', cv2.IMREAD_COLOR)\n",
        "\n",
        "\n",
        "    img1 = cv2.rotate(img, cv2.ROTATE_180) # 180도 회전\n",
        "\n",
        "                                                          \n",
        "    os.chdir(f'/content/sample_data/split_data/train/{i}')\n",
        "\n",
        "    cv2.imwrite(f's180_{i}_{j}.jpg', img1)\n"
      ]
    },
    {
      "cell_type": "code",
      "execution_count": null,
      "metadata": {
        "id": "BV3otmD5Ye9p"
      },
      "outputs": [],
      "source": [
        "train_dir = '/content/sample_data/split_data/train'\n",
        "valid_dir = '/content/sample_data/split_data/valid'\n",
        "test_dir  = '/content/sample_data/split_data/test'"
      ]
    },
    {
      "cell_type": "code",
      "execution_count": null,
      "metadata": {
        "colab": {
          "base_uri": "https://localhost:8080/"
        },
        "id": "lYt6uVgNkQv9",
        "outputId": "3dddb8c9-4e8d-4851-cf66-f3362f9d7e3c"
      },
      "outputs": [
        {
          "output_type": "stream",
          "name": "stdout",
          "text": [
            "Found 14400 images belonging to 6 classes.\n",
            "Found 1200 images belonging to 6 classes.\n"
          ]
        }
      ],
      "source": [
        "from tensorflow.keras.preprocessing.image import ImageDataGenerator\n",
        "\n",
        "train_datagen = ImageDataGenerator(rescale = 1./255)\n",
        "valid_datagen = ImageDataGenerator(rescale = 1./255)\n",
        "\n",
        "train_generator = train_datagen.flow_from_directory(\n",
        "                  train_dir,\n",
        "                  target_size = (250, 250),\n",
        "                  batch_size = 120,\n",
        "                  class_mode = 'categorical')\n",
        "\n",
        "valid_generator = valid_datagen.flow_from_directory(\n",
        "                  valid_dir,\n",
        "                  target_size = (250, 250),\n",
        "                  batch_size = 60,\n",
        "                  class_mode = 'categorical')"
      ]
    },
    {
      "cell_type": "code",
      "execution_count": null,
      "metadata": {
        "colab": {
          "base_uri": "https://localhost:8080/"
        },
        "id": "eCd_tL83k50G",
        "outputId": "55e5534b-943a-491e-eb2d-10b119b52e9a"
      },
      "outputs": [
        {
          "output_type": "stream",
          "name": "stdout",
          "text": [
            "Downloading data from https://storage.googleapis.com/tensorflow/keras-applications/vgg16/vgg16_weights_tf_dim_ordering_tf_kernels_notop.h5\n",
            "58889256/58889256 [==============================] - 3s 0us/step\n"
          ]
        }
      ],
      "source": [
        "from tensorflow.keras.applications import VGG16\n",
        "\n",
        "conv_base = VGG16(weights = 'imagenet',\n",
        "                  include_top = False,\n",
        "                  input_shape = (250, 250, 3))"
      ]
    },
    {
      "cell_type": "code",
      "execution_count": null,
      "metadata": {
        "id": "iFb_y3uvk9OT"
      },
      "outputs": [],
      "source": [
        "from tensorflow.keras import models, layers\n",
        "\n",
        "model = models.Sequential()\n",
        "model.add(conv_base)\n",
        "\n",
        "model.add(layers.Flatten())\n",
        "model.add(layers.Dense(256, activation = 'relu'))\n",
        "model.add(layers.Dropout(0.4))\n",
        "model.add(layers.Dense(6, activation = 'softmax'))"
      ]
    },
    {
      "cell_type": "code",
      "execution_count": null,
      "metadata": {
        "colab": {
          "base_uri": "https://localhost:8080/"
        },
        "id": "RjN4qY_UlCaT",
        "outputId": "d78c3744-9489-479b-a550-9da8386a0a1e"
      },
      "outputs": [
        {
          "output_type": "stream",
          "name": "stdout",
          "text": [
            "Model: \"sequential\"\n",
            "_________________________________________________________________\n",
            " Layer (type)                Output Shape              Param #   \n",
            "=================================================================\n",
            " vgg16 (Functional)          (None, 7, 7, 512)         14714688  \n",
            "                                                                 \n",
            " flatten (Flatten)           (None, 25088)             0         \n",
            "                                                                 \n",
            " dense (Dense)               (None, 256)               6422784   \n",
            "                                                                 \n",
            " dropout (Dropout)           (None, 256)               0         \n",
            "                                                                 \n",
            " dense_1 (Dense)             (None, 6)                 1542      \n",
            "                                                                 \n",
            "=================================================================\n",
            "Total params: 21,139,014\n",
            "Trainable params: 21,139,014\n",
            "Non-trainable params: 0\n",
            "_________________________________________________________________\n"
          ]
        }
      ],
      "source": [
        "model.summary()"
      ]
    },
    {
      "cell_type": "code",
      "execution_count": null,
      "metadata": {
        "colab": {
          "base_uri": "https://localhost:8080/"
        },
        "id": "1s2PecGscqy9",
        "outputId": "81151cad-7612-4962-a91a-b38c56d50f30"
      },
      "outputs": [
        {
          "output_type": "stream",
          "name": "stderr",
          "text": [
            "/usr/local/lib/python3.8/dist-packages/keras/optimizers/optimizer_v2/adam.py:110: UserWarning: The `lr` argument is deprecated, use `learning_rate` instead.\n",
            "  super(Adam, self).__init__(name, **kwargs)\n"
          ]
        }
      ],
      "source": [
        "from tensorflow.keras import optimizers\n",
        "\n",
        "model.compile(loss = 'categorical_crossentropy',\n",
        "              optimizer = optimizers.Adam(lr = 0.000005),\n",
        "              metrics = ['accuracy'])"
      ]
    },
    {
      "cell_type": "code",
      "execution_count": null,
      "metadata": {
        "colab": {
          "base_uri": "https://localhost:8080/"
        },
        "id": "faS5a1JUcqy9",
        "outputId": "f9afca9f-0205-4390-db47-217de76a6899"
      },
      "outputs": [
        {
          "output_type": "stream",
          "name": "stdout",
          "text": [
            "Epoch 1/20\n",
            "30/30 [==============================] - 603s 19s/step - loss: 1.2145 - accuracy: 0.5867 - val_loss: 0.2766 - val_accuracy: 0.9900\n",
            "Epoch 2/20\n",
            "30/30 [==============================] - 577s 19s/step - loss: 0.1428 - accuracy: 0.9783 - val_loss: 0.0136 - val_accuracy: 0.9992\n",
            "Epoch 3/20\n",
            "30/30 [==============================] - 574s 19s/step - loss: 0.0162 - accuracy: 0.9972 - val_loss: 0.0057 - val_accuracy: 0.9992\n",
            "Epoch 4/20\n",
            "30/30 [==============================] - 584s 20s/step - loss: 0.0061 - accuracy: 0.9992 - val_loss: 0.0028 - val_accuracy: 0.9992\n",
            "Epoch 5/20\n",
            "30/30 [==============================] - 567s 19s/step - loss: 0.0038 - accuracy: 0.9994 - val_loss: 0.0025 - val_accuracy: 0.9992\n",
            "Epoch 6/20\n",
            "30/30 [==============================] - 568s 19s/step - loss: 0.0023 - accuracy: 0.9997 - val_loss: 0.0018 - val_accuracy: 0.9992\n",
            "Epoch 7/20\n",
            "30/30 [==============================] - 568s 19s/step - loss: 0.0013 - accuracy: 1.0000 - val_loss: 0.0016 - val_accuracy: 0.9992\n",
            "Epoch 8/20\n",
            "30/30 [==============================] - 565s 19s/step - loss: 9.6505e-04 - accuracy: 1.0000 - val_loss: 0.0018 - val_accuracy: 0.9992\n",
            "Epoch 9/20\n",
            "30/30 [==============================] - 567s 19s/step - loss: 9.1681e-04 - accuracy: 1.0000 - val_loss: 0.0014 - val_accuracy: 0.9992\n",
            "Epoch 10/20\n",
            "30/30 [==============================] - 566s 19s/step - loss: 0.0013 - accuracy: 0.9997 - val_loss: 0.0015 - val_accuracy: 0.9992\n",
            "Epoch 11/20\n",
            "30/30 [==============================] - 567s 19s/step - loss: 5.8943e-04 - accuracy: 1.0000 - val_loss: 0.0015 - val_accuracy: 0.9992\n",
            "Epoch 12/20\n",
            "30/30 [==============================] - 578s 19s/step - loss: 4.9131e-04 - accuracy: 1.0000 - val_loss: 0.0011 - val_accuracy: 0.9992\n",
            "Epoch 13/20\n",
            "30/30 [==============================] - 582s 20s/step - loss: 3.1375e-04 - accuracy: 1.0000 - val_loss: 0.0012 - val_accuracy: 0.9992\n",
            "Epoch 14/20\n",
            "30/30 [==============================] - 577s 19s/step - loss: 3.3973e-04 - accuracy: 1.0000 - val_loss: 0.0012 - val_accuracy: 0.9992\n",
            "Epoch 15/20\n",
            "30/30 [==============================] - 582s 20s/step - loss: 1.9200e-04 - accuracy: 1.0000 - val_loss: 0.0012 - val_accuracy: 0.9992\n",
            "Epoch 16/20\n",
            "30/30 [==============================] - 582s 20s/step - loss: 3.4643e-04 - accuracy: 1.0000 - val_loss: 7.2395e-04 - val_accuracy: 1.0000\n",
            "Epoch 17/20\n",
            "30/30 [==============================] - 583s 20s/step - loss: 7.8322e-04 - accuracy: 0.9997 - val_loss: 0.0010 - val_accuracy: 0.9992\n",
            "Epoch 18/20\n",
            "30/30 [==============================] - 589s 20s/step - loss: 2.6826e-04 - accuracy: 1.0000 - val_loss: 9.4391e-04 - val_accuracy: 0.9992\n",
            "Epoch 19/20\n",
            "30/30 [==============================] - 579s 19s/step - loss: 1.1348e-04 - accuracy: 1.0000 - val_loss: 0.0010 - val_accuracy: 0.9992\n",
            "Epoch 20/20\n",
            "30/30 [==============================] - 578s 19s/step - loss: 9.6984e-05 - accuracy: 1.0000 - val_loss: 0.0010 - val_accuracy: 0.9992\n",
            "CPU times: user 3h 17min 32s, sys: 3min 26s, total: 3h 20min 58s\n",
            "Wall time: 3h 23min 37s\n"
          ]
        }
      ],
      "source": [
        "%%time\n",
        "\n",
        "Hist_dandc = model.fit(train_generator,\n",
        "                       steps_per_epoch = 30,\n",
        "                       epochs = 20,\n",
        "                       validation_data = valid_generator,\n",
        "                       validation_steps = 20)"
      ]
    },
    {
      "cell_type": "markdown",
      "metadata": {
        "id": "FXt4IIzucqy9"
      },
      "source": [
        "#3. Model\n"
      ]
    },
    {
      "cell_type": "code",
      "execution_count": null,
      "metadata": {
        "id": "NhBN8xKWgTWV",
        "colab": {
          "base_uri": "https://localhost:8080/"
        },
        "outputId": "617e57ff-8738-4091-905c-962afa0bcf4a"
      },
      "outputs": [
        {
          "output_type": "stream",
          "name": "stdout",
          "text": [
            "Found 1200 images belonging to 6 classes.\n",
            "Found 1200 images belonging to 6 classes.\n"
          ]
        }
      ],
      "source": [
        "test_datagen = ImageDataGenerator(rescale = 1./255)\n",
        "\n",
        "test_generator = test_datagen.flow_from_directory(\n",
        "                 test_dir,\n",
        "                 target_size = (250, 250),\n",
        "                 batch_size = 60,\n",
        "                 class_mode = 'categorical')\n",
        "\n",
        "test_datagen = ImageDataGenerator(rescale = 1./255)\n",
        "\n",
        "test_generator = test_datagen.flow_from_directory(\n",
        "                 test_dir,\n",
        "                 target_size = (250, 250),\n",
        "                 batch_size = 60,\n",
        "                 class_mode = 'categorical')"
      ]
    },
    {
      "cell_type": "code",
      "execution_count": null,
      "metadata": {
        "id": "MDO6slMTgcGa",
        "colab": {
          "base_uri": "https://localhost:8080/"
        },
        "outputId": "54d58f21-d34b-4811-a3de-29d812eac6a5"
      },
      "outputs": [
        {
          "output_type": "stream",
          "name": "stdout",
          "text": [
            "20/20 [==============================] - 129s 6s/step - loss: 3.9405e-04 - accuracy: 1.0000\n",
            "Loss = 0.00039\n",
            "Accuracy = 1.00000\n",
            "20/20 [==============================] - 121s 6s/step - loss: 3.9405e-04 - accuracy: 1.0000\n",
            "Loss = 0.00039\n",
            "Accuracy = 1.00000\n"
          ]
        }
      ],
      "source": [
        "loss, accuracy = model.evaluate(test_generator,\n",
        "                                steps = 20)\n",
        "\n",
        "print('Loss = {:.5f}'.format(loss))\n",
        "print('Accuracy = {:.5f}'.format(accuracy))"
      ]
    },
    {
      "cell_type": "code",
      "execution_count": null,
      "metadata": {
        "id": "eTf1lqzlTzhx"
      },
      "outputs": [],
      "source": [
        "#model save\n",
        "model.save('/content/drive/MyDrive/Colab Notebooks/model/test_vgg16_6.h5')"
      ]
    },
    {
      "cell_type": "code",
      "execution_count": null,
      "metadata": {
        "id": "r7-eG0OcT4_0"
      },
      "outputs": [],
      "source": [
        "#model load\n",
        "from tensorflow.keras.models import load_model\n",
        "\n",
        "model_google = load_model('/content/drive/MyDrive/Colab Notebooks/model/test_vgg16_6.h5')"
      ]
    },
    {
      "cell_type": "code",
      "execution_count": null,
      "metadata": {
        "id": "-NPUc1sHSQIi",
        "colab": {
          "base_uri": "https://localhost:8080/"
        },
        "outputId": "d4c082fe-ca24-4b78-cecc-39e0c4817f1c"
      },
      "outputs": [
        {
          "output_type": "stream",
          "name": "stdout",
          "text": [
            "1/1 [==============================] - 1s 1s/step\n",
            "4\n"
          ]
        }
      ],
      "source": [
        "test_image = \"/content/4_217.jpg\"\n",
        "from PIL import Image\n",
        "import numpy as np\n",
        "\n",
        "img = Image.open(test_image)\n",
        "img = img.resize((250,250))\n",
        "data = np.asarray(img)\n",
        "X = np.array(data)\n",
        "X = X.astype(\"float\") / 256\n",
        "X = X.reshape(-1,250,250,3)\n",
        "\n",
        "\n",
        "# 예측\n",
        "pred = model.predict(X)  \n",
        "result = [np.argmax(value) for value in pred]   # 예측 값 중 가장 높은 클래스 반환\n",
        "\n",
        "print(result[0]+1)"
      ]
    },
    {
      "cell_type": "code",
      "source": [
        "import matplotlib.pyplot as plt\n",
        "\n",
        "epochs = range(1, len(Hist_dandc.history['loss']) + 1)\n",
        "\n",
        "plt.figure(figsize = (9, 6))\n",
        "plt.plot(epochs, Hist_dandc.history['accuracy'])\n",
        "plt.plot(epochs, Hist_dandc.history['val_accuracy'])\n",
        "\n",
        "plt.title('Training & Validation Accuracy')\n",
        "plt.xlabel('Epochs')\n",
        "plt.ylabel('Accuracy')\n",
        "plt.legend(['Training Accuracy', 'Validation Accuracy'])\n",
        "plt.grid()\n",
        "plt.show()"
      ],
      "metadata": {
        "colab": {
          "base_uri": "https://localhost:8080/",
          "height": 404
        },
        "id": "F5-sZGXnxxcl",
        "outputId": "09364b70-78f0-4fce-e9dd-3a0bcce27694"
      },
      "execution_count": null,
      "outputs": [
        {
          "output_type": "display_data",
          "data": {
            "text/plain": [
              "<Figure size 648x432 with 1 Axes>"
            ],
            "image/png": "[encoded data removed]"
          },
          "metadata": {
            "needs_background": "light"
          }
        }
      ]
    },
    {
      "cell_type": "code",
      "source": [
        "import matplotlib.pyplot as plt\n",
        "\n",
        "epochs = range(1, len(Hist_dandc.history['loss']) + 1)\n",
        "\n",
        "plt.figure(figsize = (9, 6))\n",
        "plt.plot(epochs, Hist_dandc.history['loss'])\n",
        "plt.plot(epochs, Hist_dandc.history['val_loss'])\n",
        "\n",
        "plt.title('Training & Validation Loss')\n",
        "plt.xlabel('Epochs')\n",
        "plt.ylabel('Loss')\n",
        "plt.legend(['Training Loss', 'Validation Loss'])\n",
        "plt.grid()\n",
        "plt.show()"
      ],
      "metadata": {
        "colab": {
          "base_uri": "https://localhost:8080/",
          "height": 404
        },
        "id": "smr57T5xx58B",
        "outputId": "81a09080-0880-4732-ab2f-4fb86950bf4c"
      },
      "execution_count": null,
      "outputs": [
        {
          "output_type": "display_data",
          "data": {
            "text/plain": [
              "<Figure size 648x432 with 1 Axes>"
            ],
            "image/png": "[encoded data removed]"
          },
          "metadata": {
            "needs_background": "light"
          }
        }
      ]
    },
    {
      "cell_type": "code",
      "source": [
        "import matplotlib.pyplot as plt\n",
        "\n",
        "epochs = range(1, len(Hist_dandc.history['loss']) + 1)\n",
        "\n",
        "plt.figure(figsize = (9, 6))\n",
        "plt.plot(epochs, Hist_dandc.history['accuracy'])\n",
        "plt.plot(epochs, Hist_dandc.history['val_accuracy'])\n",
        "\n",
        "plt.title('Training & Validation Accuracy')\n",
        "plt.xlabel('Epochs')\n",
        "plt.ylabel('Accuracy')\n",
        "plt.legend(['Training Accuracy', 'Validation Accuracy'])\n",
        "plt.grid()\n",
        "plt.show()"
      ],
      "metadata": {
        "colab": {
          "base_uri": "https://localhost:8080/",
          "height": 404
        },
        "id": "jnC8KtW0yDIo",
        "outputId": "6b313ebb-6771-428b-9d67-f1fd418978a1"
      },
      "execution_count": null,
      "outputs": [
        {
          "output_type": "display_data",
          "data": {
            "text/plain": [
              "<Figure size 648x432 with 1 Axes>"
            ],
            "image/png": "[encoded data removed]"
          },
          "metadata": {
            "needs_background": "light"
          }
        }
      ]
    },
    {
      "cell_type": "markdown",
      "source": [
        "#4. Answer 도출"
      ],
      "metadata": {
        "id": "xhy-phUJQV8O"
      }
    },
    {
      "cell_type": "code",
      "execution_count": null,
      "metadata": {
        "id": "rjkErv0MTCj7"
      },
      "outputs": [],
      "source": [
        "test_image = \"/content/1_655.jpg\"\n",
        "from PIL import Image\n",
        "import numpy as np\n",
        "\n",
        "img = Image.open(test_image)\n",
        "img = img.resize((250,250))\n",
        "data = np.asarray(img)\n",
        "X = np.array(data)\n",
        "X = X.astype(\"float\") / 256\n",
        "X = X.reshape(-1,250,250,3)\n",
        "\n",
        "\n",
        "# 예측\n",
        "pred = model.predict(X)  \n",
        "result = [np.argmax(value) for value in pred]   # 예측 값 중 가장 높은 클래스 반환\n",
        "\n",
        "print(result[0]+1)"
      ]
    },
    {
      "cell_type": "code",
      "execution_count": null,
      "metadata": {
        "id": "h-EOA-nQTPPP"
      },
      "outputs": [],
      "source": [
        "test_image = \"/content/2_786.jpg\"\n",
        "from PIL import Image\n",
        "import numpy as np\n",
        "\n",
        "img = Image.open(test_image)\n",
        "img = img.resize((250,250))\n",
        "data = np.asarray(img)\n",
        "X = np.array(data)\n",
        "X = X.astype(\"float\") / 256\n",
        "X = X.reshape(-1,250,250,3)\n",
        "\n",
        "\n",
        "# 예측\n",
        "pred = model.predict(X)  \n",
        "result = [np.argmax(value) for value in pred]   # 예측 값 중 가장 높은 클래스 반환\n",
        "\n",
        "print(result[0]+1)"
      ]
    },
    {
      "cell_type": "code",
      "execution_count": null,
      "metadata": {
        "id": "AlLCSB0HTfub"
      },
      "outputs": [],
      "source": [
        "test_image = \"/content/3_317.jpg\"\n",
        "from PIL import Image\n",
        "import numpy as np\n",
        "\n",
        "img = Image.open(test_image)\n",
        "img = img.resize((250,250))\n",
        "data = np.asarray(img)\n",
        "X = np.array(data)\n",
        "X = X.astype(\"float\") / 256\n",
        "X = X.reshape(-1,250,250,3)\n",
        "\n",
        "\n",
        "# 예측\n",
        "pred = model.predict(X)  \n",
        "result = [np.argmax(value) for value in pred]   # 예측 값 중 가장 높은 클래스 반환\n",
        "\n",
        "print(result[0]+1)"
      ]
    },
    {
      "cell_type": "code",
      "execution_count": null,
      "metadata": {
        "id": "OjP5hFS0Tj1R"
      },
      "outputs": [],
      "source": [
        "test_image = \"/content/5_10.jpg\"\n",
        "from PIL import Image\n",
        "import numpy as np\n",
        "\n",
        "img = Image.open(test_image)\n",
        "img = img.resize((250,250))\n",
        "data = np.asarray(img)\n",
        "X = np.array(data)\n",
        "X = X.astype(\"float\") / 256\n",
        "X = X.reshape(-1,250,250,3)\n",
        "\n",
        "\n",
        "# 예측\n",
        "pred = model.predict(X)  \n",
        "result = [np.argmax(value) for value in pred]   # 예측 값 중 가장 높은 클래스 반환\n",
        "\n",
        "print(result[0]+1)"
      ]
    },
    {
      "cell_type": "code",
      "execution_count": null,
      "metadata": {
        "id": "EOYU1Zr1UMmM"
      },
      "outputs": [],
      "source": [
        "metrics.confusion()"
      ]
    }
  ],
  "metadata": {
    "accelerator": "GPU",
    "colab": {
      "provenance": []
    },
    "gpuClass": "standard",
    "kernelspec": {
      "display_name": "Python 3",
      "name": "python3"
    },
    "language_info": {
      "name": "python"
    }
  },
  "nbformat": 4,
  "nbformat_minor": 0
}